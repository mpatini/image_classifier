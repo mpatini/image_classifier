{
 "cells": [
  {
   "cell_type": "code",
   "execution_count": 11,
   "metadata": {},
   "outputs": [
    {
     "name": "stdout",
     "output_type": "stream",
     "text": [
      "{'#comingsoon', '', '#musiclovers', '#musicartist', '#lamusic', '#indie', '#formusiclovers', '#piano', '#audiomapsounddesign', '#selfproduced', '#alternativepop', '#popartist', '#artist', '#musicislife', '#independentartist', '#indiepop', '#guitar', '#upandcoming', '#indiemusic', '#alternative', '#cityofshepherds', '#singersongwriter', '#audio\\n#indiemusic', '#originalmusic', '#blueasphalt', '#music', '#diymusician', '#whyarewehere', '#alternativemusic', '#master', '#newalbum', '#newmusic', '#mix', '#yourlie', '#audiomap'}\n"
     ]
    }
   ],
   "source": [
    "f = open('#list.txt', 'r')\n",
    "content = set(f.read().rsplit(\" \"))\n",
    "print(content)\n",
    "f.close()"
   ]
  },
  {
   "cell_type": "code",
   "execution_count": 13,
   "metadata": {},
   "outputs": [],
   "source": [
    "f = open('#list_new.txt', 'w')\n",
    "for item in content:\n",
    "    f.write(item + \" \")\n",
    "f.close()"
   ]
  },
  {
   "cell_type": "code",
   "execution_count": null,
   "metadata": {},
   "outputs": [],
   "source": []
  }
 ],
 "metadata": {
  "kernelspec": {
   "display_name": "Python 3",
   "language": "python",
   "name": "python3"
  },
  "language_info": {
   "codemirror_mode": {
    "name": "ipython",
    "version": 3
   },
   "file_extension": ".py",
   "mimetype": "text/x-python",
   "name": "python",
   "nbconvert_exporter": "python",
   "pygments_lexer": "ipython3",
   "version": "3.6.5"
  }
 },
 "nbformat": 4,
 "nbformat_minor": 2
}
